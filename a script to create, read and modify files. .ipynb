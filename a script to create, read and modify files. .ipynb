{
 "cells": [
  {
   "cell_type": "code",
   "execution_count": null,
   "id": "40d36f5f",
   "metadata": {},
   "outputs": [],
   "source": [
    "# Creating a new file and writing a string to it\n",
    "file = open(\"oath\", mode=\"w\")\n",
    "file.write(\"This is a random text\")\n",
    "file.close()\n",
    "\n"
   ]
  },
  {
   "cell_type": "code",
   "execution_count": null,
   "id": "2a871bca",
   "metadata": {},
   "outputs": [],
   "source": [
    "# Reading a file\n",
    "file = open(\"path\", mode=\"r\")\n",
    "\n",
    "itemInFile = file.read()\n",
    "print(\"Item in string is:\")\n",
    "print('\\t' + itemInFile)\n",
    "\n",
    "file.close()\n",
    "\n"
   ]
  },
  {
   "cell_type": "code",
   "execution_count": null,
   "id": "0e1c2637",
   "metadata": {},
   "outputs": [],
   "source": [
    "# Modifing a file\n",
    "file = open(\"path\", mode=\"a\")\n",
    "\n",
    "file.write(\"\\nThis is another line in the text\")\n",
    "\n",
    "file.close()"
   ]
  },
  {
   "cell_type": "code",
   "execution_count": null,
   "id": "e06f7baf",
   "metadata": {},
   "outputs": [],
   "source": []
  },
  {
   "cell_type": "code",
   "execution_count": null,
   "id": "5911113c",
   "metadata": {},
   "outputs": [],
   "source": []
  },
  {
   "cell_type": "code",
   "execution_count": null,
   "id": "62bdea12",
   "metadata": {},
   "outputs": [],
   "source": []
  },
  {
   "cell_type": "code",
   "execution_count": null,
   "id": "43898bb1",
   "metadata": {},
   "outputs": [],
   "source": []
  }
 ],
 "metadata": {
  "kernelspec": {
   "display_name": "Python 3 (ipykernel)",
   "language": "python",
   "name": "python3"
  },
  "language_info": {
   "codemirror_mode": {
    "name": "ipython",
    "version": 3
   },
   "file_extension": ".py",
   "mimetype": "text/x-python",
   "name": "python",
   "nbconvert_exporter": "python",
   "pygments_lexer": "ipython3",
   "version": "3.9.12"
  }
 },
 "nbformat": 4,
 "nbformat_minor": 5
}
